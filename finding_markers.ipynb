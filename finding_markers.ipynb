{
 "cells": [
  {
   "cell_type": "code",
   "execution_count": 38,
   "id": "c74b9865",
   "metadata": {},
   "outputs": [],
   "source": [
    "import pandas as pd\n",
    "import matplotlib.pyplot as plt\n",
    "import numpy as np\n",
    "from collections import Counter\n",
    "from io import StringIO"
   ]
  },
  {
   "cell_type": "code",
   "execution_count": 49,
   "id": "fc873c1a",
   "metadata": {},
   "outputs": [],
   "source": [
    "def contains_pattern(row, pattern):\n",
    "      return any(pattern in str(cell) for cell in row)\n",
    "def remove_after_colon(s):\n",
    "      return s.split(':')[0]\n",
    "\n",
    "def process_df(filename):\n",
    "  #read and clean\n",
    "  with open(filename) as f:\n",
    "    lines = [line for line in f if not line.startswith('##')]\n",
    "\n",
    "  # Parse the filtered content with pandas\n",
    "  q = pd.read_csv(StringIO(''.join(lines)),sep=\"\\t\")\n",
    "\n",
    "  #q=pd.read_csv(filename,comment='##',sep=\"\\t\")\n",
    "  q.drop(columns=[\"#CHROM\",\"ID\",\"QUAL\",\"FILTER\",\"INFO\",\"FORMAT\"],inplace=True)\n",
    "  col_names=[]\n",
    "  for c in q.columns:\n",
    "      if c[0]==\"/\":\n",
    "        n=c.split(\"/\")[7]\n",
    "        s=n.split(\"_\")[1]\n",
    "        col_names.append(s)\n",
    "      else:\n",
    "        col_names.append(c)\n",
    "  q.columns=col_names\n",
    "\n",
    "  #only SNP and biallelic\n",
    "  df_filtered = q[q['REF'].str.len() == 1]\n",
    "  df_filtered = df_filtered[df_filtered['ALT'].str.len() == 1]\n",
    "\n",
    "  #take out quality info, leave just genotype\n",
    "  df_filtered['POS'] = df_filtered['POS'].astype(str)\n",
    "  df_filtered = df_filtered.applymap(remove_after_colon)\n",
    "\n",
    "  #remove heterozygotes\n",
    "  pattern = \"0/1\"\n",
    "  df_filtered = df_filtered[~df_filtered.apply(lambda row: contains_pattern(row, pattern), axis=1)]\n",
    "\n",
    "  # Replace \"0\" with values from \"REF\" column\n",
    "  for col in df_filtered.columns[3:]:\n",
    "    df_filtered[col] = df_filtered.apply(lambda row: row['REF'] if row[col] == '0/0' else row[col], axis=1)\n",
    "    df_filtered[col] = df_filtered.apply(lambda row: row['ALT'] if row[col] == '1/1' else row[col], axis=1)\n",
    "\n",
    "  #count precision of marker\n",
    "  bases=[]\n",
    "  freq = []\n",
    "  for index, row in df_filtered.iterrows():\n",
    "     most_c = Counter(row[3:]).most_common(1)[0] #('G', 15)\n",
    "     bases.append(most_c[0])\n",
    "     freq.append(most_c[1]/len(row[3:]))\n",
    "\n",
    "  df_filtered=df_filtered.iloc[:,:3]\n",
    "  df_filtered[\"val\"]=bases\n",
    "  df_filtered[\"percentage\"]=freq\n",
    "\n",
    "  #keep rows where everyone is the same\n",
    "  #q=df_filtered[df_filtered[df_filtered.columns[3:]].nunique(axis=1) == 1]\n",
    "\n",
    "  return df_filtered"
   ]
  },
  {
   "cell_type": "code",
   "execution_count": 78,
   "id": "89dcb8e7",
   "metadata": {},
   "outputs": [
    {
     "name": "stderr",
     "output_type": "stream",
     "text": [
      "/tmp/ipykernel_49864/992128992.py:32: FutureWarning: DataFrame.applymap has been deprecated. Use DataFrame.map instead.\n",
      "  df_filtered = df_filtered.applymap(remove_after_colon)\n"
     ]
    },
    {
     "name": "stdout",
     "output_type": "stream",
     "text": [
      "             POS REF ALT  val  percentage\n",
      "0           2808   A   T    A         1.0\n",
      "1           2928   G   A    G         0.8\n",
      "3           3139   A   T    A         0.6\n",
      "4           3152   T   C    T         0.6\n",
      "5           3186   T   G  ./.         0.4\n",
      "...          ...  ..  ..  ...         ...\n",
      "409511  35903081   A   G    G         1.0\n",
      "409513  35903829   A   T    A         1.0\n",
      "409514  35903845   T   A    T         1.0\n",
      "409517  35904273   G   A    G         1.0\n",
      "409518  35907363   C   A    A         1.0\n",
      "\n",
      "[135933 rows x 5 columns]\n"
     ]
    },
    {
     "name": "stderr",
     "output_type": "stream",
     "text": [
      "/tmp/ipykernel_49864/992128992.py:32: FutureWarning: DataFrame.applymap has been deprecated. Use DataFrame.map instead.\n",
      "  df_filtered = df_filtered.applymap(remove_after_colon)\n"
     ]
    },
    {
     "name": "stdout",
     "output_type": "stream",
     "text": [
      "             POS REF ALT val  percentage\n",
      "92         11636   G   T   T    1.000000\n",
      "116        25517   G   A   A    1.000000\n",
      "119        25599   C   A   A    1.000000\n",
      "631        77717   G   A   A    1.000000\n",
      "1448      114313   T   C   C    1.000000\n",
      "...          ...  ..  ..  ..         ...\n",
      "409258  35859748   T   A   A    1.000000\n",
      "409319  35865883   G   T   T    0.986667\n",
      "409355  35873280   G   A   A    0.853333\n",
      "409472  35891427   A   G   G    0.973333\n",
      "409493  35897869   G   A   A    0.946667\n",
      "\n",
      "[7876 rows x 5 columns]\n"
     ]
    }
   ],
   "source": [
    "mypath='/gpfs1/home/c/p/cpetak/WGS/local_pca_pipe/'\n",
    "mychr='NW_022145610.1'\n",
    "posi='_30779143_31460853_'#'_29427741_29776196_'#'_16610900_16737625_'#'_8291260_9094120_' #'_28950395_29566247_' #'_33842803_34582517_' #'_14219351_14298524_' #'_12702886_16793794_' # #\n",
    "\n",
    "q=process_df(mypath+mychr+posi+'homoq.vcf')\n",
    "#q = q.rename(columns={q.columns[-1]: 'q'})\n",
    "print(q) #most common base and it's frequency\n",
    "\n",
    "p=process_df(mypath+mychr+posi+'homop.vcf')\n",
    "#p = p.rename(columns={p.columns[-1]: 'p'})\n",
    "print(p) #most common base and it's frequency\n",
    "\n"
   ]
  },
  {
   "cell_type": "code",
   "execution_count": 79,
   "id": "e90eb0f4",
   "metadata": {},
   "outputs": [
    {
     "name": "stdout",
     "output_type": "stream",
     "text": [
      "Empty DataFrame\n",
      "Columns: [POS, REF, ALT, q, Frequency among q, p, Frequency among p]\n",
      "Index: []\n"
     ]
    }
   ],
   "source": [
    "#out of all the positions on this chromosome, these are consistenlty different between the orientations.\n",
    "\n",
    "merged_df = pd.merge(q, p, on='POS', how='inner') #only keep positions that are present in both p and q\n",
    "nonuniqe=merged_df[merged_df[merged_df.columns[[3,7]]].nunique(axis=1) != 1] #only keep positions that are different between p and q\n",
    "df = nonuniqe[~nonuniqe.apply(lambda row: contains_pattern(row, \"/\"), axis=1)]\n",
    "df = df.drop(['REF_y', 'ALT_y'], axis=1)\n",
    "df = df.rename(columns={'REF_x': 'REF','ALT_x': 'ALT', 'val_x': 'q', 'val_y': 'p','percentage_x': 'Frequency among q','percentage_y': 'Frequency among p' })\n",
    "\n",
    "print(df)\n",
    "\n",
    "df = df[df[\"Frequency among q\"]>0.9]\n",
    "df = df[df[\"Frequency among p\"]>0.9]\n",
    "\n",
    "df.to_csv(f'{mypath+mychr+posi}snp_markers.csv', index=False)"
   ]
  },
  {
   "cell_type": "code",
   "execution_count": 80,
   "id": "21718670",
   "metadata": {},
   "outputs": [
    {
     "data": {
      "text/plain": [
       "0"
      ]
     },
     "execution_count": 80,
     "metadata": {},
     "output_type": "execute_result"
    }
   ],
   "source": [
    "len(df)"
   ]
  },
  {
   "cell_type": "code",
   "execution_count": 81,
   "id": "a2ce9176",
   "metadata": {},
   "outputs": [
    {
     "data": {
      "text/plain": [
       "'_30779143_31460853_'"
      ]
     },
     "execution_count": 81,
     "metadata": {},
     "output_type": "execute_result"
    }
   ],
   "source": [
    "posi"
   ]
  },
  {
   "cell_type": "code",
   "execution_count": 87,
   "id": "1dc81124",
   "metadata": {},
   "outputs": [
    {
     "name": "stdout",
     "output_type": "stream",
     "text": [
      "Processed: NW_022145600.1_33842803_34582517_snp_markers.csv\n",
      "Processed: NW_022145597.1_14219351_14298524_snp_markers.csv\n",
      "Processed: NW_022145594.1_39429440_42445994_snp_markers.csv\n",
      "Processed: NW_022145594.1_12702886_16793794_snp_markers.csv\n",
      "Processed: NW_022145610.1_30779143_31460853_snp_markers.csv\n",
      "Processed: NW_022145606.1_16610900_16737625_snp_markers.csv\n",
      "Processed: NW_022145601.1_28950395_29566247_snp_markers.csv\n",
      "Processed: NW_022145609.1_29427741_29776196_snp_markers.csv\n",
      "Processed: NW_022145603.1_8291260_9094120_snp_markers.csv\n"
     ]
    }
   ],
   "source": [
    "import pandas as pd\n",
    "import glob\n",
    "import os\n",
    "\n",
    "# Find all CSV files that contain 'snp_marker' in the filename\n",
    "csv_files = glob.glob(\"*snp_marker*.csv\")\n",
    "\n",
    "for file in csv_files:\n",
    "    # Read the CSV file\n",
    "    df = pd.read_csv(file)\n",
    "    \n",
    "    # Round all numeric columns to 3 decimal places\n",
    "    df = df.round(3)\n",
    "    \n",
    "    # Save it back (overwrite original)\n",
    "    df.to_csv(file, index=False)\n",
    "\n",
    "    print(f\"Processed: {file}\")\n"
   ]
  },
  {
   "cell_type": "code",
   "execution_count": null,
   "id": "6a16dec3",
   "metadata": {},
   "outputs": [],
   "source": []
  }
 ],
 "metadata": {
  "kernelspec": {
   "display_name": "wgs",
   "language": "python",
   "name": "python3"
  },
  "language_info": {
   "codemirror_mode": {
    "name": "ipython",
    "version": 3
   },
   "file_extension": ".py",
   "mimetype": "text/x-python",
   "name": "python",
   "nbconvert_exporter": "python",
   "pygments_lexer": "ipython3",
   "version": "3.12.3"
  }
 },
 "nbformat": 4,
 "nbformat_minor": 5
}
